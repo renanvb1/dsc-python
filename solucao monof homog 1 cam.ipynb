{
 "cells": [
  {
   "cell_type": "code",
   "execution_count": 1,
   "id": "73c110dd",
   "metadata": {},
   "outputs": [],
   "source": [
    "# bloco com os imports\n",
    "import numpy as np\n",
    "from math import factorial as fac\n",
    "from scipy.special import kv as kv\n",
    "# import pandas as pd\n",
    "import matplotlib.pyplot as pp\n",
    "%matplotlib inline"
   ]
  },
  {
   "cell_type": "code",
   "execution_count": 2,
   "id": "3432f52b",
   "metadata": {},
   "outputs": [],
   "source": [
    "# funcao que calcula os vj \n",
    "def calcvj(n):\n",
    "#     verificando se n e par\n",
    "    if n%2==1:\n",
    "#         forcando n a ser par, caso necessario\n",
    "        n=n+1\n",
    "#     inicializando vj com zeros\n",
    "    vj=np.zeros([n,1])\n",
    "#     entrando no loop de j\n",
    "    for j in range(1,n+1):\n",
    "#         determinando o maximo do somatorio\n",
    "        kmax=round(min(j,n/2))\n",
    "#     determinando o minimo do somatorio\n",
    "        if j%2 == 0:\n",
    "            kmin=round(j/2)\n",
    "        else:\n",
    "            kmin = round((j+1)/2)\n",
    "#       entrando no loop em k\n",
    "        for k in range(kmin, kmax+1):\n",
    "            num=np.power(k,1+n/2)*fac(2*k)\n",
    "            den=fac(n/2-k)*fac(k)*fac(k)*fac(j-k)*fac(2*k-j)\n",
    "            vj[j-1]=vj[j-1]+num/den\n",
    "#     final do loop em k\n",
    "\n",
    "        vj[j-1]=vj[j-1]*np.power(-1,j+n/2)\n",
    "#     final do loop em j\n",
    "\n",
    "\n",
    "#     retornando o vetor de vjs calculados\n",
    "    return vj"
   ]
  },
  {
   "cell_type": "code",
   "execution_count": 3,
   "id": "63686f97",
   "metadata": {},
   "outputs": [],
   "source": [
    "# # invertendo uma funcao usando stehfest\n",
    "# def stehfest(t):\n",
    "# #     definindo o N de stehfest\n",
    "#     n=12\n",
    "# #     chamando a funcao para calcular os coeficientes vj\n",
    "#     vj=calcvj(n)\n",
    "# #     inicializando o vetor de valores aproximados com zeros\n",
    "#     fa=np.zeros_like(t)\n",
    "# #     buscando o comprimento do vetor de tempo\n",
    "#     lent=len(t)\n",
    "# #     entrando no loop em i (tamanho do vetor de tempo)\n",
    "#     for i in range(0,lent):\n",
    "# #         entrando no loop em j para inverter a funcao\n",
    "#         for j in range(1,n+1):\n",
    "# #         calculando a \"variavel de Laplace\"\n",
    "#             u=j*np.log(2)/t[i]\n",
    "# #           invertendo a funcao 1/u\n",
    "#             fa[i]=fa[i]+vj[j-1]*1/u\n",
    "# #             fim do loop em j\n",
    "# #         multiplicando o valor aproximado por ln(2)/t\n",
    "#         fa[i] = fa[i]*np.log(2)/t[i]\n",
    "# #         fim do loop em i\n",
    "# #     retornando o valor aproximado da funcao\n",
    "#     return fa"
   ]
  },
  {
   "cell_type": "code",
   "execution_count": 4,
   "id": "864cf651",
   "metadata": {},
   "outputs": [],
   "source": [
    "# usando stehfest para obter a pressao no campo real\n",
    "def stehfest(t,k,h,q,mu,eta,rw):\n",
    "#     definindo o N de stehfest\n",
    "    n=12\n",
    "#     definindo a constante multiplicativa\n",
    "    cons = q*mu/k/h\n",
    "#     chamando a funcao para calcular os coeficientes vj\n",
    "    vj=calcvj(n)\n",
    "#     inicializando o vetor de valores aproximados com zeros\n",
    "    fa=np.zeros_like(t)\n",
    "#     buscando o comprimento do vetor de tempo\n",
    "    lent=len(t)\n",
    "#     entrando no loop em i (tamanho do vetor de tempo)\n",
    "    for i in range(0,lent):\n",
    "#         entrando no loop em j para inverter a funcao\n",
    "        for j in range(1,n+1):\n",
    "#         calculando a \"variavel de Laplace\"\n",
    "            u=j*np.log(2)/t[i]\n",
    "            arg = rw*np.sqrt(u/eta)\n",
    "#           invertendo a funcao 1/u\n",
    "            fa[i]=fa[i]+vj[j-1]*kv(0,arg)/u/arg/kv(1,arg)\n",
    "#             fim do loop em j\n",
    "#         multiplicando o valor aproximado por cons*ln(2)/t\n",
    "        fa[i] = fa[i]*cons*np.log(2)/t[i]\n",
    "#         fim do loop em i\n",
    "#     retornando o valor aproximado da funcao\n",
    "    return fa"
   ]
  },
  {
   "cell_type": "code",
   "execution_count": 5,
   "id": "3a2b4cc7",
   "metadata": {},
   "outputs": [],
   "source": [
    "# funcao que calcula a pressao usando a aproximacao logaritmica da linha fonte\n",
    "def approxlog(t, q, mu, k, h, phi, ct, rw, alphat):\n",
    "    \n",
    "    gamma = .57722\n",
    "    \n",
    "    p=np.zeros_like(t)\n",
    "    \n",
    "    for i in range(0,len(t)):\n",
    "        p[i] = np.log(4*alphat*k*t[i]/np.exp(gamma)/phi/mu/ct/rw/rw)\n",
    "        p[i] = p[i]*q*mu/2/k/h\n",
    "        \n",
    "    return p"
   ]
  },
  {
   "cell_type": "code",
   "execution_count": 6,
   "id": "5976b08a",
   "metadata": {},
   "outputs": [],
   "source": [
    "# funcao que calcula a derivada em relacao ao log de x\n",
    "def deriv1(x,y):\n",
    "#     inicializando o vetor da derivada com zeros\n",
    "    dy = np.zeros_like(y)\n",
    "    \n",
    "    for i in range(1,len(x)):\n",
    "        dy[i]=(y[i]-y[i-1])/np.log(x[i]/x[i-1])\n",
    "    \n",
    "    dy[0] = dy[1]\n",
    "    \n",
    "    return dy"
   ]
  },
  {
   "cell_type": "code",
   "execution_count": 7,
   "id": "265f2e7a",
   "metadata": {},
   "outputs": [],
   "source": [
    "# funcao que retorna os limites dos eixos para plot\n",
    "def limcart(v):\n",
    "    limi = np.zeros([2,1])\n",
    "    limi[0] = np.floor(min(v))\n",
    "    limi[1] = np.ceil(max(v))\n",
    "    \n",
    "    return limi"
   ]
  },
  {
   "cell_type": "code",
   "execution_count": 8,
   "id": "d949c260",
   "metadata": {},
   "outputs": [],
   "source": [
    "# funcao que retorna os limites dos eixos para loglog\n",
    "def limlog(v):\n",
    "    limi = np.zeros([2,1])\n",
    "    limi[0] = np.log10(min(v))\n",
    "    limi[1] = np.log10(max(v))\n",
    "    \n",
    "    limi[0] = np.power(10,np.floor(limi[0]))\n",
    "    limi[1] = np.power(10,np.ceil(limi[1]))\n",
    "    \n",
    "    return limi"
   ]
  },
  {
   "cell_type": "code",
   "execution_count": 9,
   "id": "09498838",
   "metadata": {},
   "outputs": [],
   "source": [
    "# definindo o tempo inicial\n",
    "t0=1e-4\n",
    "# definindo a constante multiplicativa\n",
    "dt=np.power(10,1/5)\n",
    "# definindo o numero de pontos\n",
    "n=5*6+1\n",
    "# inicializando o vetor de tempo\n",
    "t=np.zeros([n,1])\n",
    "# definindo primeiro ponto no vetor de tempo\n",
    "t[0]=t0\n",
    "#  criando o vetor de tempo\n",
    "for i in range(1,n):\n",
    "    t[i]=t[i-1]*dt"
   ]
  },
  {
   "cell_type": "code",
   "execution_count": 10,
   "id": "f02dfe12",
   "metadata": {},
   "outputs": [],
   "source": [
    "# bloco que define os parametros de entrada\n",
    "\n",
    "# definindo as constantes de ajuste de unidades\n",
    "alphap=19.03\n",
    "alphat=.0003484\n",
    "\n",
    "# vazao no poco (em m³/d)\n",
    "q = 500\n",
    "# permeabilidade (em mD)\n",
    "k = 1000\n",
    "# altura (em m)\n",
    "h = 30\n",
    "# viscosidade (em cP)\n",
    "mu = 5.1\n",
    "# porosidade (adimensional)\n",
    "phi = .05\n",
    "# raio do poco (em m)\n",
    "rw=.1\n",
    "# compressibilidade total (em (kgf/cm²)^-1)\n",
    "ct = 5e-5"
   ]
  },
  {
   "cell_type": "code",
   "execution_count": 11,
   "id": "5c7c18a6",
   "metadata": {},
   "outputs": [],
   "source": [
    "# ajustando a vazao\n",
    "q = q*alphap\n",
    "# calculando a difusividade hidraulica\n",
    "eta = alphat*k/phi/mu/ct\n",
    "\n",
    "# calculando a pressao usando stehfest\n",
    "p = stehfest(t, k,h,q,mu,eta,rw)\n",
    "# derivando a pressao\n",
    "dp = deriv1(t,p)\n",
    "\n",
    "# calculando a pressao usando a aprox log\n",
    "p2 = approxlog(t, q, mu, k, h, phi, ct, rw, alphat)\n",
    "# derivando a pressao\n",
    "dp2 = deriv1(t,p2)"
   ]
  },
  {
   "cell_type": "code",
   "execution_count": 12,
   "id": "2ebc133d",
   "metadata": {},
   "outputs": [],
   "source": [
    "# buscando os limites dos eixos\n",
    "lint = limlog(t)\n",
    "lint[1]=lint[1]/10\n",
    "liny = [0, max(p)]\n",
    "liny = limlog([min(dp), max(p)])"
   ]
  },
  {
   "cell_type": "code",
   "execution_count": 16,
   "id": "e11004c2",
   "metadata": {},
   "outputs": [
    {
     "data": {
      "text/plain": [
       "<matplotlib.legend.Legend at 0x1d188d7dca0>"
      ]
     },
     "execution_count": 16,
     "metadata": {},
     "output_type": "execute_result"
    },
    {
     "data": {
      "image/png": "[encoded data removed]",
      "text/plain": [
       "<Figure size 432x288 with 1 Axes>"
      ]
     },
     "metadata": {
      "needs_background": "light"
     },
     "output_type": "display_data"
    }
   ],
   "source": [
    "# tentando plotar\n",
    "fig, ax = pp.subplots()\n",
    "# titulo do eixo x\n",
    "ax.set_xlabel('t (h)')\n",
    "# titulo do eixo y\n",
    "ax.set_ylabel('P (kgf/cm²)')\n",
    "# limites do eixo x\n",
    "ax.set_xlim(lint)\n",
    "# limites do eixo y\n",
    "ax.set_ylim(liny)\n",
    "# plotando as curvas\n",
    "ax.semilogx(t, p, 'b-', label = 'Bessel');\n",
    "ax.semilogx(t, dp, 'k-');\n",
    "\n",
    "ax.loglog(t, p2, 'bo', label = 'Aprox Log');\n",
    "ax.semilogx(t, dp2, 'ko');\n",
    "\n",
    "\n",
    "ax.legend(loc = 'best')"
   ]
  },
  {
   "cell_type": "code",
   "execution_count": 17,
   "id": "d5649d1f",
   "metadata": {},
   "outputs": [
    {
     "data": {
      "text/plain": [
       "27325.49019607843"
      ]
     },
     "execution_count": 17,
     "metadata": {},
     "output_type": "execute_result"
    }
   ],
   "source": [
    "eta"
   ]
  },
  {
   "cell_type": "code",
   "execution_count": null,
   "id": "a50bbc44",
   "metadata": {},
   "outputs": [],
   "source": []
  }
 ],
 "metadata": {
  "kernelspec": {
   "display_name": "Python 3",
   "language": "python",
   "name": "python3"
  },
  "language_info": {
   "codemirror_mode": {
    "name": "ipython",
    "version": 3
   },
   "file_extension": ".py",
   "mimetype": "text/x-python",
   "name": "python",
   "nbconvert_exporter": "python",
   "pygments_lexer": "ipython3",
   "version": "3.8.8"
  }
 },
 "nbformat": 4,
 "nbformat_minor": 5
}
