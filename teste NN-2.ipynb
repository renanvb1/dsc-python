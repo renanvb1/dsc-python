{
 "cells": [
  {
   "cell_type": "code",
   "execution_count": 1,
   "id": "d8571328",
   "metadata": {},
   "outputs": [],
   "source": [
    "# bloco com os imports\n",
    "import numpy as np\n",
    "# import pandas as pd\n",
    "import sklearn as sk\n",
    "from sklearn.gaussian_process import GaussianProcessRegressor\n",
    "from sklearn.neural_network import MLPRegressor as mlpr\n",
    "from sklearn.model_selection import train_test_split as datasplit\n",
    "# import matplotlib as mp\n",
    "import matplotlib.pyplot as pp\n",
    "%matplotlib inline"
   ]
  },
  {
   "cell_type": "code",
   "execution_count": 2,
   "id": "b799831f",
   "metadata": {},
   "outputs": [],
   "source": [
    "# definindo a funcao que sera usada como exemplo\n",
    "def fy(x,flag):\n",
    "    if (flag == 0):\n",
    "        y=np.log(np.abs(x))\n",
    "    elif (flag == 1):\n",
    "        y=x\n",
    "    elif (flag == 2):\n",
    "        y=np.power(x,2)\n",
    "    elif (flag == 3):\n",
    "        y=np.sin(x)\n",
    "    elif (flag == 4):\n",
    "        y=np.arctan(x)\n",
    "    else:\n",
    "        y=0\n",
    "    return y"
   ]
  },
  {
   "cell_type": "code",
   "execution_count": 3,
   "id": "a1850a35",
   "metadata": {},
   "outputs": [],
   "source": [
    "# definindo um limite inferior para x\n",
    "a=-10;\n",
    "# definindo um limite superior para x\n",
    "b=10;\n",
    "# definindo numero de passos\n",
    "num=300\n",
    "\n",
    "# definindo um vetor x que vai de a ate b\n",
    "# x=np.array(range(a,b+1))\n",
    "x=np.linspace(a,b, num=num)"
   ]
  },
  {
   "cell_type": "code",
   "execution_count": 4,
   "id": "d7c1c20d",
   "metadata": {},
   "outputs": [],
   "source": [
    "# definindo um vetor y = f(x) de acordo com o flag\n",
    "\n",
    "# definindo o flag\n",
    "flag = 4\n",
    "\n",
    "# inicializando y com zeros\n",
    "y=np.zeros_like(x)\n",
    "\n",
    "# calculando y de acordo com o flag\n",
    "for i in range(0,len(x)):\n",
    "    \n",
    "    y[i]=fy(x[i],flag)\n"
   ]
  },
  {
   "cell_type": "code",
   "execution_count": 5,
   "id": "1b830fc7",
   "metadata": {},
   "outputs": [],
   "source": [
    "# adicionando um ruido gaussiano (pelo menos assim espero!) a y\n",
    "\n",
    "# criando um vetor de numeros sorteados na normal 0, 1\n",
    "err=np.random.default_rng().normal(0, 1, len(y))\n",
    "# normalizando o erro para que o maior valor corresponda a 5%\n",
    "err=.05*err/max(np.abs(err))\n",
    "\n",
    "\n",
    "# criando um vetor y2 com o ruido\n",
    "y2=y*(1+err)\n",
    "y2=y + err*np.mean(np.abs(x))\n",
    "# y2"
   ]
  },
  {
   "cell_type": "code",
   "execution_count": 6,
   "id": "32e74f6e",
   "metadata": {},
   "outputs": [],
   "source": [
    "# buscando os limites dos eixos\n",
    "\n",
    "# minimo em x\n",
    "minx = np.floor(min(x))\n",
    "# maximo em x\n",
    "maxx = np.ceil(max(x))\n",
    "\n",
    "# minimo em y\n",
    "miny = np.floor(min(y))\n",
    "# maximo em y\n",
    "maxy = np.ceil(max(y))\n"
   ]
  },
  {
   "cell_type": "code",
   "execution_count": 7,
   "id": "bded8ba7",
   "metadata": {},
   "outputs": [],
   "source": [
    "# tentando aplicar o metodo Gaussian Process Regressor para estimar os dados\n",
    "gpr = GaussianProcessRegressor().fit(x.reshape(-1,1),y2.reshape(-1,1))\n",
    "yest = gpr.predict(x.reshape(-1,1), return_std=False)"
   ]
  },
  {
   "cell_type": "code",
   "execution_count": 8,
   "id": "515988db",
   "metadata": {},
   "outputs": [
    {
     "data": {
      "text/plain": [
       "<matplotlib.legend.Legend at 0x2e912ce0dc0>"
      ]
     },
     "execution_count": 8,
     "metadata": {},
     "output_type": "execute_result"
    },
    {
     "data": {
      "image/png": "[encoded data removed]",
      "text/plain": [
       "<Figure size 432x288 with 1 Axes>"
      ]
     },
     "metadata": {
      "needs_background": "light"
     },
     "output_type": "display_data"
    }
   ],
   "source": [
    "# tentando plotar os dados estimados\n",
    "fig, ax = pp.subplots()\n",
    "# titulo do eixo x\n",
    "ax.set_xlabel('valores de x', fontsize = 14)\n",
    "# titulo do eixo y\n",
    "ax.set_ylabel('Valores de y', fontsize = 14)\n",
    "# limites do eixo x\n",
    "ax.set_xlim([minx, maxx])\n",
    "# limites do eixo y\n",
    "ax.set_ylim([miny, maxy])\n",
    "# plotando os valores estimados\n",
    "# ax.plot(dat.x, dat.ln, '-');\n",
    "ax.plot(x, yest, '--', label = 'Estim', linewidth = 4);\n",
    "\n",
    "# plotando os valores reais\n",
    "ax.plot(x, y, 'r-', label = 'True', linewidth = 2.5);\n",
    "\n",
    "# amostrando parte dos dados com ruido\n",
    "lixo, xno, lixo2, yno = datasplit(x, y2, test_size=20/num, random_state = 42)\n",
    "# plotando os valores com ruido\n",
    "ax.plot(xno, yno, 'ko', label = 'Noisy');\n",
    "\n",
    "del lixo, lixo2\n",
    "\n",
    "# incluindo a legenda\n",
    "# ax.legend('estm.', 'real')\n",
    "ax.legend(loc=\"best\", fontsize = 12)"
   ]
  },
  {
   "cell_type": "code",
   "execution_count": 9,
   "id": "cd0489dc",
   "metadata": {},
   "outputs": [
    {
     "name": "stderr",
     "output_type": "stream",
     "text": [
      "C:\\Users\\renan\\anaconda3\\lib\\site-packages\\sklearn\\linear_model\\_ridge.py:147: LinAlgWarning: Ill-conditioned matrix (rcond=7.84451e-25): result may not be accurate.\n",
      "  return linalg.solve(A, Xy, sym_pos=True,\n"
     ]
    }
   ],
   "source": [
    "# tentando resolver o problema usando regressao linear e aproximacao polinomial\n",
    "from sklearn.linear_model import LinearRegression as linreg\n",
    "from sklearn.preprocessing import PolynomialFeatures as polyfeat\n",
    "from sklearn.pipeline import make_pipeline as pipe\n",
    "from sklearn.linear_model import Ridge\n",
    "\n",
    "# selecionando o grau do polinomio que vai aproximar a funcao\n",
    "deg = 10\n",
    "\n",
    "# criando o modelo\n",
    "regr = linreg()\n",
    "# regr2 = pipe([(\"polynomial_features\", polyfeat),(\"linear_regression\", linreg())])\n",
    "\n",
    "regr2 = pipe(polyfeat(deg), Ridge(alpha = 1e-3) )\n",
    "\n",
    "\n",
    "# treinando o modelo\n",
    "regr.fit(x.reshape(-1,1), y.reshape(-1,1))\n",
    "\n",
    "regr2.fit(x.reshape(-1,1),y.reshape(-1,1))\n",
    "\n",
    "# estimando os dados com base no modelo\n",
    "yreg = regr.predict(x.reshape(-1,1))\n",
    "yreg2 = regr2.predict(x.reshape(-1,1))\n",
    "\n",
    "\n",
    "# print(xm.shape)\n",
    "\n",
    "# print(yreg2)"
   ]
  },
  {
   "cell_type": "code",
   "execution_count": 10,
   "id": "d8d18ba5",
   "metadata": {},
   "outputs": [
    {
     "data": {
      "text/plain": [
       "<matplotlib.legend.Legend at 0x2e912f34a30>"
      ]
     },
     "execution_count": 10,
     "metadata": {},
     "output_type": "execute_result"
    },
    {
     "data": {
      "image/png": "[encoded data removed]",
      "text/plain": [
       "<Figure size 432x288 with 1 Axes>"
      ]
     },
     "metadata": {
      "needs_background": "light"
     },
     "output_type": "display_data"
    }
   ],
   "source": [
    "# tentando plotar os dados estimados\n",
    "fig, ax = pp.subplots()\n",
    "# titulo do eixo x\n",
    "ax.set_xlabel('valores de x')\n",
    "# titulo do eixo y\n",
    "ax.set_ylabel('Valores de y')\n",
    "# limites do eixo x\n",
    "ax.set_xlim([minx, maxx])\n",
    "# limites do eixo y\n",
    "ax.set_ylim([miny, maxy])\n",
    "# plotando os valores estimados\n",
    "# ax.plot(dat.x, dat.ln, '-');\n",
    "# ax.plot(x, yreg, 'g*', label = 'Estim', markersize = 10);\n",
    "ax.plot(x, yreg2, '--', label = 'Poly', linewidth = 5);\n",
    "# ax.plot(xm[:,1], yreg2, 'g-*', label = 'Poly', linewidth = 5);\n",
    "\n",
    "# plotando os valores reais\n",
    "ax.plot(x, y, 'r-', label = 'True', linewidth = 2.5);\n",
    "\n",
    "# plotando os valores com ruido\n",
    "ax.plot(xno, yno, 'ko', label = 'Noisy');\n",
    "\n",
    "# incluindo a legenda\n",
    "# ax.legend('estm.', 'real')\n",
    "ax.legend(loc=\"best\", fontsize = 12)"
   ]
  },
  {
   "cell_type": "code",
   "execution_count": 11,
   "id": "d28c1f7b",
   "metadata": {},
   "outputs": [],
   "source": [
    "#  tentando montar uma divisao entre dados de entrada e saida\n",
    "# para isso, vamos determinar um numero de pontos que serao considerados\n",
    "# entrada na rede para prever o proximo ponto\n",
    "\n",
    "# numero de pontos de entrada na rede\n",
    "ent = 5; # esse numero foi escolhido arbitrariamente\n",
    "\n",
    "# verificando se o numero de entradas e maior que o numero de pontos disponiveis\n",
    "if ent >= num:\n",
    "#     se ent > num, forcando que ent = 0.1 num\n",
    "    ent = int(0.1*num)\n",
    "# final do if"
   ]
  },
  {
   "cell_type": "code",
   "execution_count": 12,
   "id": "3a5599d5",
   "metadata": {},
   "outputs": [],
   "source": [
    "# criando uma matriz onde cada linha apresenta as ent entradas e depois o valor de saida\n",
    "\n",
    "cond = 2\n",
    "\n",
    "# inicializando a matriz com zeros\n",
    "if cond == 1:\n",
    "    xm = np.zeros((num-ent, ent+1))\n",
    "else:\n",
    "    xm = np.zeros((num-ent, ent))\n",
    "    \n",
    "\n",
    "for i in range(num-ent):\n",
    "    for j in range(0,ent):\n",
    "        xm[i,j]=x[i+j]\n",
    "#     final do for do j\n",
    "    if cond == 1:\n",
    "        xm[i,ent]=y[i+ent-1];\n",
    "# final do for do i\n",
    "\n",
    "# fazendo um slicing no vetor de saida para pegar apenas as num - ent entradas\n",
    "ym = y2[ent-1:-1]\n",
    "# ym"
   ]
  },
  {
   "cell_type": "code",
   "execution_count": 13,
   "id": "021ecbc7",
   "metadata": {},
   "outputs": [
    {
     "name": "stdout",
     "output_type": "stream",
     "text": [
      "(236, 5) (236,)\n"
     ]
    }
   ],
   "source": [
    "# definindo a fracao correspondente aos dados de teste\n",
    "tsize = 0.2    # valor escolhido arbitrariamente\n",
    "\n",
    "# separando os dados em treino e teste\n",
    "xtr, xte, ytr, yte = datasplit(xm, ym, test_size=tsize)\n",
    "\n",
    "print(xtr.shape, ytr.shape)"
   ]
  },
  {
   "cell_type": "code",
   "execution_count": 14,
   "id": "ee135a54",
   "metadata": {},
   "outputs": [],
   "source": [
    "# definindo o numero de camadas ocultas\n",
    "nlayers = 200\n",
    "# definindo a funcao de ativacao (indentity, logistic, tanh ou relu)\n",
    "act = 'relu'\n",
    "# definindo o metodo de otimizacao (lbfgs, sgd ou adam)\n",
    "opt = 'adam'\n",
    "# definindo o numero maximo de iteracoes (default = 200)\n",
    "imax = 1000\n",
    "# definindo a taxa de aprendizagem (default = .001)\n",
    "lerat = .005\n",
    "# definindo a fracao de dados de validacao\n",
    "valf = 0.1\n",
    "\n",
    "# tentando resolver essa bagaca usando redes neurais\n",
    "nn = mlpr(early_stopping=True, validation_fraction=valf, learning_rate_init=lerat, \n",
    "          activation = act, solver=opt, hidden_layer_sizes = nlayers, max_iter= imax,\n",
    "         random_state=0).fit(xtr, ytr)"
   ]
  },
  {
   "cell_type": "code",
   "execution_count": 15,
   "id": "46147c78",
   "metadata": {},
   "outputs": [
    {
     "name": "stdout",
     "output_type": "stream",
     "text": [
      "Score: 0.994\n",
      "RMSE:  0.097\n"
     ]
    }
   ],
   "source": [
    "# tentando usar a rede para estimar os dados\n",
    "ynn = nn.predict(xte)\n",
    "\n",
    "# verificando o score da rede \n",
    "sco = round(nn.score(xte, yte),3)\n",
    "\n",
    "# verificando a RMSE da rede\n",
    "rmse = np.linalg.norm(yte - ynn)/np.sqrt(len(ynn))\n",
    "\n",
    "# exibindo na tela\n",
    "print('Score: %.3f' %sco)\n",
    "print('RMSE:  %.3f' %(rmse))"
   ]
  },
  {
   "cell_type": "code",
   "execution_count": 16,
   "id": "ce7fe642",
   "metadata": {},
   "outputs": [
    {
     "data": {
      "text/plain": [
       "<matplotlib.legend.Legend at 0x2e913f91670>"
      ]
     },
     "execution_count": 16,
     "metadata": {},
     "output_type": "execute_result"
    },
    {
     "data": {
      "image/png": "[encoded data removed]",
      "text/plain": [
       "<Figure size 432x288 with 1 Axes>"
      ]
     },
     "metadata": {
      "needs_background": "light"
     },
     "output_type": "display_data"
    }
   ],
   "source": [
    "# tentando plotar\n",
    "yaux = np.linspace(miny, maxy, num = 3)\n",
    "\n",
    "tol = 0.2\n",
    "\n",
    "# tentando plotar os dados estimados\n",
    "fig, ax = pp.subplots()\n",
    "# titulo do eixo x\n",
    "ax.set_xlabel('true values', fontsize = 14)\n",
    "# titulo do eixo y\n",
    "ax.set_ylabel('predicted values', fontsize = 14)\n",
    "# limites do eixo x\n",
    "ax.set_xlim([miny, maxy])\n",
    "# limites do eixo y\n",
    "ax.set_ylim([miny, maxy])\n",
    "# plotando os valores estimados\n",
    "# ax.plot(dat.x, dat.ln, '-');\n",
    "ax.plot(yte, ynn, 'bo', label = 'MLP Regress', markersize = 5);\n",
    "ax.plot(yaux, yaux, 'k--', label = 'Ideal Model', linewidth = 2.5);\n",
    "# ax.plot(yaux, (1+tol)*yaux, 'g-', linewidth = 0.5);\n",
    "# ax.plot(yaux, (1-tol)*yaux, 'g-', linewidth = 0.5);\n",
    "ax.fill_between(yaux, (1+tol)*yaux, (1-tol)*yaux, alpha = 0.2, label = f'{int(100*tol)}% err.')\n",
    "\n",
    "# incluindo a legenda\n",
    "ax.legend(loc=\"best\", fontsize = 12)"
   ]
  },
  {
   "cell_type": "code",
   "execution_count": 17,
   "id": "be349254",
   "metadata": {},
   "outputs": [],
   "source": [
    "# usando a rede para estimar alguns dados\n",
    "dx = x[1] - x[0]"
   ]
  },
  {
   "cell_type": "code",
   "execution_count": 18,
   "id": "14b90c0f",
   "metadata": {},
   "outputs": [
    {
     "data": {
      "text/plain": [
       "<matplotlib.legend.Legend at 0x2e912f9b5e0>"
      ]
     },
     "execution_count": 18,
     "metadata": {},
     "output_type": "execute_result"
    },
    {
     "data": {
      "image/png": "[encoded data removed]",
      "text/plain": [
       "<Figure size 432x288 with 1 Axes>"
      ]
     },
     "metadata": {
      "needs_background": "light"
     },
     "output_type": "display_data"
    }
   ],
   "source": [
    "# plotando dado estimado vs dado real vs dado ruidoso\n",
    "fig, ax = pp.subplots()\n",
    "# titulo do eixo x\n",
    "ax.set_xlabel('Values of X', fontsize = 14)\n",
    "# titulo do eixo y\n",
    "ax.set_ylabel('Values of Y', fontsize = 14)\n",
    "# limites do eixo x\n",
    "ax.set_xlim([minx, maxx])\n",
    "# limites do eixo y\n",
    "ax.set_ylim([miny, maxy])\n",
    "\n",
    "# plotando os valores estimados\n",
    "# ax.plot(range(0,len(xaux)), xaux, '--', label = 'Ref.', linewidth = 5);\n",
    "ax.plot(xte[:,0], yte, 'k*', label = 'Test Data', markersize = 10)\n",
    "\n",
    "# plotando os valores reais\n",
    "ax.plot(x, y, 'r-', label = 'True', linewidth = 2.5);\n",
    "\n",
    "# # plotando os valores com ruido\n",
    "ax.plot(xte[:,0], ynn, 'bo', label = 'MLP');\n",
    "\n",
    "# incluindo a legenda\n",
    "ax.legend(loc=\"best\", fontsize = 12)"
   ]
  },
  {
   "cell_type": "code",
   "execution_count": null,
   "id": "81e5f878",
   "metadata": {},
   "outputs": [],
   "source": []
  }
 ],
 "metadata": {
  "kernelspec": {
   "display_name": "Python 3",
   "language": "python",
   "name": "python3"
  },
  "language_info": {
   "codemirror_mode": {
    "name": "ipython",
    "version": 3
   },
   "file_extension": ".py",
   "mimetype": "text/x-python",
   "name": "python",
   "nbconvert_exporter": "python",
   "pygments_lexer": "ipython3",
   "version": "3.8.8"
  }
 },
 "nbformat": 4,
 "nbformat_minor": 5
}
